{
  "nbformat": 4,
  "nbformat_minor": 0,
  "metadata": {
    "colab": {
      "provenance": []
    },
    "kernelspec": {
      "name": "python3",
      "display_name": "Python 3"
    },
    "language_info": {
      "name": "python"
    }
  },
  "cells": [
    {
      "cell_type": "code",
      "execution_count": 1,
      "metadata": {
        "id": "hGgYs6nRWzF7"
      },
      "outputs": [],
      "source": [
        "import numpy as np\n",
        "import pandas as pd\n",
        "import matplotlib.pyplot as plt\n",
        "import seaborn as sns\n",
        "import platform"
      ]
    },
    {
      "cell_type": "code",
      "source": [
        "file_path = '/content/drive/MyDrive/20240819 CBCT MRI 데이터 정리 - 수정1.xlsx'\n",
        "\n",
        "df = pd.read_excel(file_path, sheet_name='정리본')\n",
        "\n",
        "# 'SEX (여성-F, 남성-M)' 컬럼명을 'SEX'로 변경\n",
        "df.rename(columns={'SEX (여성-F, 남성-M)': 'SEX'}, inplace=True)\n",
        "df['SEX'] = df['SEX'].map({'F': 0, 'M': 1})\n",
        "\n",
        "# 빈문자열을 NaN으로 변경하기\n",
        "df.replace(\"\", np.nan, inplace=True)\n",
        "\n",
        "columns = df.columns\n",
        "print(len(columns))\n",
        "print(columns)\n",
        "df.head()"
      ],
      "metadata": {
        "colab": {
          "base_uri": "https://localhost:8080/",
          "height": 316
        },
        "id": "mMM1IpghW-t7",
        "outputId": "e42803da-1c18-4c9e-e7b8-251b12084975"
      },
      "execution_count": 2,
      "outputs": [
        {
          "output_type": "stream",
          "name": "stdout",
          "text": [
            "9\n",
            "Index(['No.', 'Patient ID', 'NAME', 'SEX', 'AGE',\n",
            "       'CBCT_Rt OA (Osteoarthritis) (0=normal, 1=OA)',\n",
            "       'CBCT_Lt OA  (Osteoarthritis) (0=normal, 1=OA)',\n",
            "       'MRI_Rt OA (0=normal, 1=OA)', 'MRI_Lt OA (0=normal, 1=OA)'],\n",
            "      dtype='object')\n"
          ]
        },
        {
          "output_type": "execute_result",
          "data": {
            "text/plain": [
              "   No.  Patient ID NAME  SEX  AGE  \\\n",
              "0    1    20708532  사막동  0.0   68   \n",
              "1    2    20711690  이유진  0.0   23   \n",
              "2    3    20711556  이동규  1.0   26   \n",
              "3    4    20288547  지영선  1.0   66   \n",
              "4    5    20711599  배일웅  1.0   77   \n",
              "\n",
              "   CBCT_Rt OA (Osteoarthritis) (0=normal, 1=OA)  \\\n",
              "0                                             1   \n",
              "1                                             0   \n",
              "2                                             1   \n",
              "3                                             0   \n",
              "4                                             1   \n",
              "\n",
              "   CBCT_Lt OA  (Osteoarthritis) (0=normal, 1=OA)  MRI_Rt OA (0=normal, 1=OA)  \\\n",
              "0                                              1                         NaN   \n",
              "1                                              0                         NaN   \n",
              "2                                              1                         NaN   \n",
              "3                                              0                         NaN   \n",
              "4                                              1                         NaN   \n",
              "\n",
              "   MRI_Lt OA (0=normal, 1=OA)  \n",
              "0                         NaN  \n",
              "1                         NaN  \n",
              "2                         NaN  \n",
              "3                         NaN  \n",
              "4                         NaN  "
            ],
            "text/html": [
              "\n",
              "  <div id=\"df-e8f0c488-ec0d-4ed4-ace4-b910745c2d9c\" class=\"colab-df-container\">\n",
              "    <div>\n",
              "<style scoped>\n",
              "    .dataframe tbody tr th:only-of-type {\n",
              "        vertical-align: middle;\n",
              "    }\n",
              "\n",
              "    .dataframe tbody tr th {\n",
              "        vertical-align: top;\n",
              "    }\n",
              "\n",
              "    .dataframe thead th {\n",
              "        text-align: right;\n",
              "    }\n",
              "</style>\n",
              "<table border=\"1\" class=\"dataframe\">\n",
              "  <thead>\n",
              "    <tr style=\"text-align: right;\">\n",
              "      <th></th>\n",
              "      <th>No.</th>\n",
              "      <th>Patient ID</th>\n",
              "      <th>NAME</th>\n",
              "      <th>SEX</th>\n",
              "      <th>AGE</th>\n",
              "      <th>CBCT_Rt OA (Osteoarthritis) (0=normal, 1=OA)</th>\n",
              "      <th>CBCT_Lt OA  (Osteoarthritis) (0=normal, 1=OA)</th>\n",
              "      <th>MRI_Rt OA (0=normal, 1=OA)</th>\n",
              "      <th>MRI_Lt OA (0=normal, 1=OA)</th>\n",
              "    </tr>\n",
              "  </thead>\n",
              "  <tbody>\n",
              "    <tr>\n",
              "      <th>0</th>\n",
              "      <td>1</td>\n",
              "      <td>20708532</td>\n",
              "      <td>사막동</td>\n",
              "      <td>0.0</td>\n",
              "      <td>68</td>\n",
              "      <td>1</td>\n",
              "      <td>1</td>\n",
              "      <td>NaN</td>\n",
              "      <td>NaN</td>\n",
              "    </tr>\n",
              "    <tr>\n",
              "      <th>1</th>\n",
              "      <td>2</td>\n",
              "      <td>20711690</td>\n",
              "      <td>이유진</td>\n",
              "      <td>0.0</td>\n",
              "      <td>23</td>\n",
              "      <td>0</td>\n",
              "      <td>0</td>\n",
              "      <td>NaN</td>\n",
              "      <td>NaN</td>\n",
              "    </tr>\n",
              "    <tr>\n",
              "      <th>2</th>\n",
              "      <td>3</td>\n",
              "      <td>20711556</td>\n",
              "      <td>이동규</td>\n",
              "      <td>1.0</td>\n",
              "      <td>26</td>\n",
              "      <td>1</td>\n",
              "      <td>1</td>\n",
              "      <td>NaN</td>\n",
              "      <td>NaN</td>\n",
              "    </tr>\n",
              "    <tr>\n",
              "      <th>3</th>\n",
              "      <td>4</td>\n",
              "      <td>20288547</td>\n",
              "      <td>지영선</td>\n",
              "      <td>1.0</td>\n",
              "      <td>66</td>\n",
              "      <td>0</td>\n",
              "      <td>0</td>\n",
              "      <td>NaN</td>\n",
              "      <td>NaN</td>\n",
              "    </tr>\n",
              "    <tr>\n",
              "      <th>4</th>\n",
              "      <td>5</td>\n",
              "      <td>20711599</td>\n",
              "      <td>배일웅</td>\n",
              "      <td>1.0</td>\n",
              "      <td>77</td>\n",
              "      <td>1</td>\n",
              "      <td>1</td>\n",
              "      <td>NaN</td>\n",
              "      <td>NaN</td>\n",
              "    </tr>\n",
              "  </tbody>\n",
              "</table>\n",
              "</div>\n",
              "    <div class=\"colab-df-buttons\">\n",
              "\n",
              "  <div class=\"colab-df-container\">\n",
              "    <button class=\"colab-df-convert\" onclick=\"convertToInteractive('df-e8f0c488-ec0d-4ed4-ace4-b910745c2d9c')\"\n",
              "            title=\"Convert this dataframe to an interactive table.\"\n",
              "            style=\"display:none;\">\n",
              "\n",
              "  <svg xmlns=\"http://www.w3.org/2000/svg\" height=\"24px\" viewBox=\"0 -960 960 960\">\n",
              "    <path d=\"M120-120v-720h720v720H120Zm60-500h600v-160H180v160Zm220 220h160v-160H400v160Zm0 220h160v-160H400v160ZM180-400h160v-160H180v160Zm440 0h160v-160H620v160ZM180-180h160v-160H180v160Zm440 0h160v-160H620v160Z\"/>\n",
              "  </svg>\n",
              "    </button>\n",
              "\n",
              "  <style>\n",
              "    .colab-df-container {\n",
              "      display:flex;\n",
              "      gap: 12px;\n",
              "    }\n",
              "\n",
              "    .colab-df-convert {\n",
              "      background-color: #E8F0FE;\n",
              "      border: none;\n",
              "      border-radius: 50%;\n",
              "      cursor: pointer;\n",
              "      display: none;\n",
              "      fill: #1967D2;\n",
              "      height: 32px;\n",
              "      padding: 0 0 0 0;\n",
              "      width: 32px;\n",
              "    }\n",
              "\n",
              "    .colab-df-convert:hover {\n",
              "      background-color: #E2EBFA;\n",
              "      box-shadow: 0px 1px 2px rgba(60, 64, 67, 0.3), 0px 1px 3px 1px rgba(60, 64, 67, 0.15);\n",
              "      fill: #174EA6;\n",
              "    }\n",
              "\n",
              "    .colab-df-buttons div {\n",
              "      margin-bottom: 4px;\n",
              "    }\n",
              "\n",
              "    [theme=dark] .colab-df-convert {\n",
              "      background-color: #3B4455;\n",
              "      fill: #D2E3FC;\n",
              "    }\n",
              "\n",
              "    [theme=dark] .colab-df-convert:hover {\n",
              "      background-color: #434B5C;\n",
              "      box-shadow: 0px 1px 3px 1px rgba(0, 0, 0, 0.15);\n",
              "      filter: drop-shadow(0px 1px 2px rgba(0, 0, 0, 0.3));\n",
              "      fill: #FFFFFF;\n",
              "    }\n",
              "  </style>\n",
              "\n",
              "    <script>\n",
              "      const buttonEl =\n",
              "        document.querySelector('#df-e8f0c488-ec0d-4ed4-ace4-b910745c2d9c button.colab-df-convert');\n",
              "      buttonEl.style.display =\n",
              "        google.colab.kernel.accessAllowed ? 'block' : 'none';\n",
              "\n",
              "      async function convertToInteractive(key) {\n",
              "        const element = document.querySelector('#df-e8f0c488-ec0d-4ed4-ace4-b910745c2d9c');\n",
              "        const dataTable =\n",
              "          await google.colab.kernel.invokeFunction('convertToInteractive',\n",
              "                                                    [key], {});\n",
              "        if (!dataTable) return;\n",
              "\n",
              "        const docLinkHtml = 'Like what you see? Visit the ' +\n",
              "          '<a target=\"_blank\" href=https://colab.research.google.com/notebooks/data_table.ipynb>data table notebook</a>'\n",
              "          + ' to learn more about interactive tables.';\n",
              "        element.innerHTML = '';\n",
              "        dataTable['output_type'] = 'display_data';\n",
              "        await google.colab.output.renderOutput(dataTable, element);\n",
              "        const docLink = document.createElement('div');\n",
              "        docLink.innerHTML = docLinkHtml;\n",
              "        element.appendChild(docLink);\n",
              "      }\n",
              "    </script>\n",
              "  </div>\n",
              "\n",
              "\n",
              "<div id=\"df-bb0ef86c-7f8d-40a9-9fb9-ec5e77c175d8\">\n",
              "  <button class=\"colab-df-quickchart\" onclick=\"quickchart('df-bb0ef86c-7f8d-40a9-9fb9-ec5e77c175d8')\"\n",
              "            title=\"Suggest charts\"\n",
              "            style=\"display:none;\">\n",
              "\n",
              "<svg xmlns=\"http://www.w3.org/2000/svg\" height=\"24px\"viewBox=\"0 0 24 24\"\n",
              "     width=\"24px\">\n",
              "    <g>\n",
              "        <path d=\"M19 3H5c-1.1 0-2 .9-2 2v14c0 1.1.9 2 2 2h14c1.1 0 2-.9 2-2V5c0-1.1-.9-2-2-2zM9 17H7v-7h2v7zm4 0h-2V7h2v10zm4 0h-2v-4h2v4z\"/>\n",
              "    </g>\n",
              "</svg>\n",
              "  </button>\n",
              "\n",
              "<style>\n",
              "  .colab-df-quickchart {\n",
              "      --bg-color: #E8F0FE;\n",
              "      --fill-color: #1967D2;\n",
              "      --hover-bg-color: #E2EBFA;\n",
              "      --hover-fill-color: #174EA6;\n",
              "      --disabled-fill-color: #AAA;\n",
              "      --disabled-bg-color: #DDD;\n",
              "  }\n",
              "\n",
              "  [theme=dark] .colab-df-quickchart {\n",
              "      --bg-color: #3B4455;\n",
              "      --fill-color: #D2E3FC;\n",
              "      --hover-bg-color: #434B5C;\n",
              "      --hover-fill-color: #FFFFFF;\n",
              "      --disabled-bg-color: #3B4455;\n",
              "      --disabled-fill-color: #666;\n",
              "  }\n",
              "\n",
              "  .colab-df-quickchart {\n",
              "    background-color: var(--bg-color);\n",
              "    border: none;\n",
              "    border-radius: 50%;\n",
              "    cursor: pointer;\n",
              "    display: none;\n",
              "    fill: var(--fill-color);\n",
              "    height: 32px;\n",
              "    padding: 0;\n",
              "    width: 32px;\n",
              "  }\n",
              "\n",
              "  .colab-df-quickchart:hover {\n",
              "    background-color: var(--hover-bg-color);\n",
              "    box-shadow: 0 1px 2px rgba(60, 64, 67, 0.3), 0 1px 3px 1px rgba(60, 64, 67, 0.15);\n",
              "    fill: var(--button-hover-fill-color);\n",
              "  }\n",
              "\n",
              "  .colab-df-quickchart-complete:disabled,\n",
              "  .colab-df-quickchart-complete:disabled:hover {\n",
              "    background-color: var(--disabled-bg-color);\n",
              "    fill: var(--disabled-fill-color);\n",
              "    box-shadow: none;\n",
              "  }\n",
              "\n",
              "  .colab-df-spinner {\n",
              "    border: 2px solid var(--fill-color);\n",
              "    border-color: transparent;\n",
              "    border-bottom-color: var(--fill-color);\n",
              "    animation:\n",
              "      spin 1s steps(1) infinite;\n",
              "  }\n",
              "\n",
              "  @keyframes spin {\n",
              "    0% {\n",
              "      border-color: transparent;\n",
              "      border-bottom-color: var(--fill-color);\n",
              "      border-left-color: var(--fill-color);\n",
              "    }\n",
              "    20% {\n",
              "      border-color: transparent;\n",
              "      border-left-color: var(--fill-color);\n",
              "      border-top-color: var(--fill-color);\n",
              "    }\n",
              "    30% {\n",
              "      border-color: transparent;\n",
              "      border-left-color: var(--fill-color);\n",
              "      border-top-color: var(--fill-color);\n",
              "      border-right-color: var(--fill-color);\n",
              "    }\n",
              "    40% {\n",
              "      border-color: transparent;\n",
              "      border-right-color: var(--fill-color);\n",
              "      border-top-color: var(--fill-color);\n",
              "    }\n",
              "    60% {\n",
              "      border-color: transparent;\n",
              "      border-right-color: var(--fill-color);\n",
              "    }\n",
              "    80% {\n",
              "      border-color: transparent;\n",
              "      border-right-color: var(--fill-color);\n",
              "      border-bottom-color: var(--fill-color);\n",
              "    }\n",
              "    90% {\n",
              "      border-color: transparent;\n",
              "      border-bottom-color: var(--fill-color);\n",
              "    }\n",
              "  }\n",
              "</style>\n",
              "\n",
              "  <script>\n",
              "    async function quickchart(key) {\n",
              "      const quickchartButtonEl =\n",
              "        document.querySelector('#' + key + ' button');\n",
              "      quickchartButtonEl.disabled = true;  // To prevent multiple clicks.\n",
              "      quickchartButtonEl.classList.add('colab-df-spinner');\n",
              "      try {\n",
              "        const charts = await google.colab.kernel.invokeFunction(\n",
              "            'suggestCharts', [key], {});\n",
              "      } catch (error) {\n",
              "        console.error('Error during call to suggestCharts:', error);\n",
              "      }\n",
              "      quickchartButtonEl.classList.remove('colab-df-spinner');\n",
              "      quickchartButtonEl.classList.add('colab-df-quickchart-complete');\n",
              "    }\n",
              "    (() => {\n",
              "      let quickchartButtonEl =\n",
              "        document.querySelector('#df-bb0ef86c-7f8d-40a9-9fb9-ec5e77c175d8 button');\n",
              "      quickchartButtonEl.style.display =\n",
              "        google.colab.kernel.accessAllowed ? 'block' : 'none';\n",
              "    })();\n",
              "  </script>\n",
              "</div>\n",
              "\n",
              "    </div>\n",
              "  </div>\n"
            ],
            "application/vnd.google.colaboratory.intrinsic+json": {
              "type": "dataframe",
              "variable_name": "df",
              "summary": "{\n  \"name\": \"df\",\n  \"rows\": 1219,\n  \"fields\": [\n    {\n      \"column\": \"No.\",\n      \"properties\": {\n        \"dtype\": \"number\",\n        \"std\": 324,\n        \"min\": 1,\n        \"max\": 1064,\n        \"num_unique_values\": 1031,\n        \"samples\": [\n          32,\n          111,\n          138\n        ],\n        \"semantic_type\": \"\",\n        \"description\": \"\"\n      }\n    },\n    {\n      \"column\": \"Patient ID\",\n      \"properties\": {\n        \"dtype\": \"number\",\n        \"std\": 375038,\n        \"min\": 10690744,\n        \"max\": 27601864,\n        \"num_unique_values\": 1014,\n        \"samples\": [\n          20548300,\n          20683735,\n          20697162\n        ],\n        \"semantic_type\": \"\",\n        \"description\": \"\"\n      }\n    },\n    {\n      \"column\": \"NAME\",\n      \"properties\": {\n        \"dtype\": \"string\",\n        \"num_unique_values\": 1124,\n        \"samples\": [\n          \"\\uc774O\\uc120\",\n          \"\\uc774\\uc18c\\uc601\",\n          \"\\uae40\\uc9c0\\uc218\"\n        ],\n        \"semantic_type\": \"\",\n        \"description\": \"\"\n      }\n    },\n    {\n      \"column\": \"SEX\",\n      \"properties\": {\n        \"dtype\": \"number\",\n        \"std\": 0.45721685746521507,\n        \"min\": 0.0,\n        \"max\": 1.0,\n        \"num_unique_values\": 2,\n        \"samples\": [\n          1.0,\n          0.0\n        ],\n        \"semantic_type\": \"\",\n        \"description\": \"\"\n      }\n    },\n    {\n      \"column\": \"AGE\",\n      \"properties\": {\n        \"dtype\": \"number\",\n        \"std\": 18,\n        \"min\": 11,\n        \"max\": 90,\n        \"num_unique_values\": 77,\n        \"samples\": [\n          77,\n          54\n        ],\n        \"semantic_type\": \"\",\n        \"description\": \"\"\n      }\n    },\n    {\n      \"column\": \"CBCT_Rt OA (Osteoarthritis) (0=normal, 1=OA)\",\n      \"properties\": {\n        \"dtype\": \"number\",\n        \"std\": 0,\n        \"min\": 0,\n        \"max\": 1,\n        \"num_unique_values\": 2,\n        \"samples\": [\n          0,\n          1\n        ],\n        \"semantic_type\": \"\",\n        \"description\": \"\"\n      }\n    },\n    {\n      \"column\": \"CBCT_Lt OA  (Osteoarthritis) (0=normal, 1=OA)\",\n      \"properties\": {\n        \"dtype\": \"number\",\n        \"std\": 0,\n        \"min\": 0,\n        \"max\": 1,\n        \"num_unique_values\": 2,\n        \"samples\": [\n          0,\n          1\n        ],\n        \"semantic_type\": \"\",\n        \"description\": \"\"\n      }\n    },\n    {\n      \"column\": \"MRI_Rt OA (0=normal, 1=OA)\",\n      \"properties\": {\n        \"dtype\": \"number\",\n        \"std\": 0.475060002591542,\n        \"min\": 0.0,\n        \"max\": 1.0,\n        \"num_unique_values\": 2,\n        \"samples\": [\n          1.0,\n          0.0\n        ],\n        \"semantic_type\": \"\",\n        \"description\": \"\"\n      }\n    },\n    {\n      \"column\": \"MRI_Lt OA (0=normal, 1=OA)\",\n      \"properties\": {\n        \"dtype\": \"number\",\n        \"std\": 0.47679697366073626,\n        \"min\": 0.0,\n        \"max\": 1.0,\n        \"num_unique_values\": 2,\n        \"samples\": [\n          1.0,\n          0.0\n        ],\n        \"semantic_type\": \"\",\n        \"description\": \"\"\n      }\n    }\n  ]\n}"
            }
          },
          "metadata": {},
          "execution_count": 2
        }
      ]
    },
    {
      "cell_type": "code",
      "source": [
        "# 예제: 성별 및 나이 분포 계산 (사람별 기본 통계)\n",
        "person_stats = df[['Patient ID', 'SEX', 'AGE']].drop_duplicates(subset='Patient ID')\n",
        "\n",
        "# 성별 분포 확인\n",
        "sex_distribution = df['SEX'].value_counts()\n",
        "\n",
        "# 나이 분포 확인\n",
        "age_distribution = df['AGE'].describe()\n",
        "\n",
        "print(\"성별 분포:\\n\", sex_distribution)\n",
        "print(\"나이 분포:\\n\", age_distribution)"
      ],
      "metadata": {
        "colab": {
          "base_uri": "https://localhost:8080/"
        },
        "id": "4F9VKktKXE_q",
        "outputId": "68ffbed1-4bb5-4bef-f2db-bb8cc283bc79"
      },
      "execution_count": 3,
      "outputs": [
        {
          "output_type": "stream",
          "name": "stdout",
          "text": [
            "성별 분포:\n",
            " SEX\n",
            "0.0    856\n",
            "1.0    362\n",
            "Name: count, dtype: int64\n",
            "나이 분포:\n",
            " count    1219.000000\n",
            "mean       36.970468\n",
            "std        18.655043\n",
            "min        11.000000\n",
            "25%        22.000000\n",
            "50%        31.000000\n",
            "75%        51.000000\n",
            "max        90.000000\n",
            "Name: AGE, dtype: float64\n"
          ]
        }
      ]
    },
    {
      "cell_type": "code",
      "source": [
        "# 좌측 TMJ 데이터 생성\n",
        "left_tmj = df[['Patient ID', 'SEX', 'AGE', 'CBCT_Lt OA  (Osteoarthritis) (0=normal, 1=OA)']]\n",
        "left_tmj = left_tmj.rename(columns={'CBCT_Lt OA  (Osteoarthritis) (0=normal, 1=OA)': 'TMJ_OA_Status'})\n",
        "left_tmj['TMJ_Side'] = 'Left'  # 좌측 TMJ로 구분\n",
        "\n",
        "# 우측 TMJ 데이터 생성\n",
        "right_tmj = df[['Patient ID', 'SEX', 'AGE', 'CBCT_Rt OA (Osteoarthritis) (0=normal, 1=OA)']]\n",
        "right_tmj = right_tmj.rename(columns={'CBCT_Rt OA (Osteoarthritis) (0=normal, 1=OA)': 'TMJ_OA_Status'})\n",
        "right_tmj['TMJ_Side'] = 'Right'  # 우측 TMJ로 구분\n",
        "\n",
        "# 좌측, 우측 TMJ 데이터 합치기\n",
        "tmj_data = pd.concat([left_tmj, right_tmj], ignore_index=True)"
      ],
      "metadata": {
        "id": "A8yIbuREYWIl"
      },
      "execution_count": 4,
      "outputs": []
    },
    {
      "cell_type": "code",
      "source": [
        "# TMJ 상태별 성별 분포 분석\n",
        "tmj_sex_distribution = tmj_data.groupby(['TMJ_Side', 'SEX', 'TMJ_OA_Status']).size()\n",
        "print(\"TMJ 상태별 성별 분포:\\n\", tmj_sex_distribution)\n",
        "\n",
        "# TMJ 상태별 나이 분포 분석\n",
        "tmj_age_distribution = tmj_data.groupby(['TMJ_Side', 'TMJ_OA_Status'])['AGE'].describe()\n",
        "print(\"\\nTMJ 상태별 나이 분포:\\n\", tmj_age_distribution)"
      ],
      "metadata": {
        "colab": {
          "base_uri": "https://localhost:8080/"
        },
        "id": "sZ2kRsKMY24j",
        "outputId": "bb7be0f0-254c-4955-90bd-b26f495fecdb"
      },
      "execution_count": 5,
      "outputs": [
        {
          "output_type": "stream",
          "name": "stdout",
          "text": [
            "TMJ 상태별 성별 분포:\n",
            " TMJ_Side  SEX  TMJ_OA_Status\n",
            "Left      0.0  0                419\n",
            "               1                437\n",
            "          1.0  0                223\n",
            "               1                139\n",
            "Right     0.0  0                476\n",
            "               1                380\n",
            "          1.0  0                234\n",
            "               1                128\n",
            "dtype: int64\n",
            "\n",
            "TMJ 상태별 나이 분포:\n",
            "                         count       mean        std   min   25%   50%    75%  \\\n",
            "TMJ_Side TMJ_OA_Status                                                         \n",
            "Left     0              643.0  35.046656  17.355034  11.0  21.0  29.0  46.00   \n",
            "         1              576.0  39.118056  19.802151  11.0  22.0  34.0  55.25   \n",
            "Right    0              710.0  34.914085  17.404900  11.0  21.0  28.0  47.00   \n",
            "         1              509.0  39.838900  19.936355  11.0  22.0  36.0  56.00   \n",
            "\n",
            "                         max  \n",
            "TMJ_Side TMJ_OA_Status        \n",
            "Left     0              89.0  \n",
            "         1              90.0  \n",
            "Right    0              89.0  \n",
            "         1              90.0  \n"
          ]
        }
      ]
    },
    {
      "cell_type": "code",
      "source": [
        "# 연령 그룹 설정\n",
        "bins = [0, 19, 29, 39, 49, 59, 69, 79, 89, 99]\n",
        "labels = ['10s', '20s', '30s', '40s', '50s', '60s', '70s', '80s', '90s']\n",
        "df['Age_Group'] = pd.cut(df['AGE'], bins=bins, labels=labels)"
      ],
      "metadata": {
        "id": "Iw5Hu8MtZuEd"
      },
      "execution_count": 7,
      "outputs": []
    },
    {
      "cell_type": "code",
      "source": [
        "# 좌측 TMJ 데이터 생성\n",
        "left_tmj = df[['Patient ID', 'SEX', 'Age_Group', 'CBCT_Lt OA  (Osteoarthritis) (0=normal, 1=OA)']]\n",
        "left_tmj = left_tmj.rename(columns={'CBCT_Lt OA  (Osteoarthritis) (0=normal, 1=OA)': 'TMJ_OA_Status'})\n",
        "left_tmj['TMJ_Side'] = 'Left'  # 좌측 TMJ로 구분\n",
        "\n",
        "# 우측 TMJ 데이터 생성\n",
        "right_tmj = df[['Patient ID', 'SEX', 'Age_Group', 'CBCT_Rt OA (Osteoarthritis) (0=normal, 1=OA)']]\n",
        "right_tmj = right_tmj.rename(columns={'CBCT_Rt OA (Osteoarthritis) (0=normal, 1=OA)': 'TMJ_OA_Status'})\n",
        "right_tmj['TMJ_Side'] = 'Right'  # 우측 TMJ로 구분\n",
        "\n",
        "# 좌측, 우측 TMJ 데이터 합치기\n",
        "tmj_data = pd.concat([left_tmj, right_tmj], ignore_index=True)"
      ],
      "metadata": {
        "id": "LWgX7XN2ZxIM"
      },
      "execution_count": 8,
      "outputs": []
    },
    {
      "cell_type": "code",
      "source": [
        "# TMJ 상태별 연령 그룹 및 성별 분포 계산\n",
        "tmj_age_sex_distribution = tmj_data.groupby(['TMJ_Side', 'Age_Group', 'SEX'])['TMJ_OA_Status'].value_counts().unstack()\n",
        "print(\"TMJ 상태별 연령 그룹 및 성별 분포:\\n\", tmj_age_sex_distribution)"
      ],
      "metadata": {
        "colab": {
          "base_uri": "https://localhost:8080/"
        },
        "id": "UgZAMmRKZz09",
        "outputId": "116c1a29-b468-47d4-ff53-75a220f159cb"
      },
      "execution_count": 28,
      "outputs": [
        {
          "output_type": "stream",
          "name": "stdout",
          "text": [
            "TMJ 상태별 연령 그룹 및 성별 분포:\n",
            " TMJ_OA_Status             0    1\n",
            "TMJ_Side Age_Group SEX          \n",
            "Left     10s       0.0   67   68\n",
            "                   1.0   44   33\n",
            "         20s       0.0  126  104\n",
            "                   1.0   93   47\n",
            "         30s       0.0   53   45\n",
            "                   1.0   33   17\n",
            "         40s       0.0   68   61\n",
            "                   1.0   22    9\n",
            "         50s       0.0   54   76\n",
            "                   1.0    9   11\n",
            "         60s       0.0   25   44\n",
            "                   1.0   13    9\n",
            "         70s       0.0   19   30\n",
            "                   1.0    9   12\n",
            "         80s       0.0    7    8\n",
            "                   1.0    0    1\n",
            "         90s       0.0    0    1\n",
            "                   1.0    0    0\n",
            "Right    10s       0.0   75   60\n",
            "                   1.0   54   23\n",
            "         20s       0.0  144   86\n",
            "                   1.0   96   44\n",
            "         30s       0.0   59   39\n",
            "                   1.0   35   15\n",
            "         40s       0.0   67   62\n",
            "                   1.0   15   16\n",
            "         50s       0.0   76   54\n",
            "                   1.0    9   11\n",
            "         60s       0.0   30   39\n",
            "                   1.0   13    9\n",
            "         70s       0.0   21   28\n",
            "                   1.0   12    9\n",
            "         80s       0.0    4   11\n",
            "                   1.0    0    1\n",
            "         90s       0.0    0    1\n",
            "                   1.0    0    0\n"
          ]
        },
        {
          "output_type": "stream",
          "name": "stderr",
          "text": [
            "<ipython-input-28-f56bcf41dd50>:2: FutureWarning: The default of observed=False is deprecated and will be changed to True in a future version of pandas. Pass observed=False to retain current behavior or observed=True to adopt the future default and silence this warning.\n",
            "  tmj_age_sex_distribution = tmj_data.groupby(['TMJ_Side', 'Age_Group', 'SEX'])['TMJ_OA_Status'].value_counts().unstack()\n"
          ]
        }
      ]
    },
    {
      "cell_type": "code",
      "source": [
        "# Right와 Left가 모두 0 (정상)인 경우 필터링\n",
        "both_normal = tmj_data.groupby('Patient ID').filter(\n",
        "    lambda x: (x['TMJ_OA_Status'] == 0).all()\n",
        ")\n",
        "both_normal['Status'] = 'Both Normal (0)'\n",
        "\n",
        "# Right와 Left가 모두 1 (OA)인 경우 필터링\n",
        "both_oa = tmj_data.groupby('Patient ID').filter(\n",
        "    lambda x: (x['TMJ_OA_Status'] == 1).all()\n",
        ")\n",
        "both_oa['Status'] = 'Both OA (1)'\n",
        "\n",
        "# 두 경우를 합치기\n",
        "tmj_combined = pd.concat([both_normal, both_oa])\n",
        "\n",
        "# Status별 Age_Group 분포 시각화\n",
        "plt.figure(figsize=(12, 6))\n",
        "sns.countplot(x='Age_Group', hue='Status', data=tmj_combined, palette='Set2', dodge=True)\n",
        "plt.title('Age Group Distribution for Patients with Both TMJ OA Normal (0) and OA (1)')\n",
        "plt.xlabel('Age Group')\n",
        "plt.ylabel('Count')\n",
        "plt.legend(title='TMJ OA Status')\n",
        "plt.xticks(rotation=45)\n",
        "plt.grid(True)\n",
        "\n",
        "plt.show()"
      ],
      "metadata": {
        "colab": {
          "base_uri": "https://localhost:8080/",
          "height": 578
        },
        "id": "8suFmX0mgCLv",
        "outputId": "a9518a92-ada4-450e-faee-8497f606946b"
      },
      "execution_count": 31,
      "outputs": [
        {
          "output_type": "display_data",
          "data": {
            "text/plain": [
              "<Figure size 1200x600 with 1 Axes>"
            ],
            "image/png": "[encoded data removed]"
          },
          "metadata": {}
        }
      ]
    },
    {
      "cell_type": "code",
      "source": [
        "print(tmj_data.columns)# 전체 TMJ에서 TMJ OA=1 및 TMJ OA=0 개수 계산\n",
        "total_tmj_counts = tmj_data['TMJ_OA_Status'].value_counts()\n",
        "print(\"전체 TMJ OA 상태 분포 (TMJ OA=1, TMJ OA=0):\\n\", total_tmj_counts)"
      ],
      "metadata": {
        "colab": {
          "base_uri": "https://localhost:8080/"
        },
        "id": "ztm-8Dvhg2nA",
        "outputId": "2be8fbc2-dac7-4dbb-9e5a-b31467b8779c"
      },
      "execution_count": 32,
      "outputs": [
        {
          "output_type": "stream",
          "name": "stdout",
          "text": [
            "Index(['Patient ID', 'SEX', 'Age_Group', 'TMJ_OA_Status', 'TMJ_Side',\n",
            "       'Gender'],\n",
            "      dtype='object')\n",
            "전체 TMJ OA 상태 분포 (TMJ OA=1, TMJ OA=0):\n",
            " TMJ_OA_Status\n",
            "0    1353\n",
            "1    1085\n",
            "Name: count, dtype: int64\n"
          ]
        }
      ]
    },
    {
      "cell_type": "code",
      "source": [
        "# 전체 TMJ OA 상태 분포 계산\n",
        "total_tmj_counts = tmj_data['TMJ_OA_Status'].value_counts()\n",
        "\n",
        "# TMJ OA 상태 분포 시각화\n",
        "plt.figure(figsize=(8, 6))\n",
        "sns.barplot(x=total_tmj_counts.index, y=total_tmj_counts.values, palette='Set2')\n",
        "plt.title(\"Distribution of TMJ OA Status\")\n",
        "plt.xlabel(\"\")\n",
        "plt.ylabel(\"Count\")\n",
        "plt.xticks([0, 1], ['Normal (0)', 'OA (1)'])\n",
        "plt.grid(True)\n",
        "\n",
        "# 각 막대 위에 개수 표시\n",
        "for i, count in enumerate(total_tmj_counts.values):\n",
        "    plt.text(i, count + 10, str(count), ha='center', fontsize=12, color='black')\n",
        "\n",
        "plt.show()"
      ],
      "metadata": {
        "colab": {
          "base_uri": "https://localhost:8080/",
          "height": 637
        },
        "id": "QJnvMvW2fLbi",
        "outputId": "7a775f55-1a86-434f-e156-3d345984e2e2"
      },
      "execution_count": 35,
      "outputs": [
        {
          "output_type": "stream",
          "name": "stderr",
          "text": [
            "<ipython-input-35-3336aa8f0b1f>:6: FutureWarning: \n",
            "\n",
            "Passing `palette` without assigning `hue` is deprecated and will be removed in v0.14.0. Assign the `x` variable to `hue` and set `legend=False` for the same effect.\n",
            "\n",
            "  sns.barplot(x=total_tmj_counts.index, y=total_tmj_counts.values, palette='Set2')\n"
          ]
        },
        {
          "output_type": "display_data",
          "data": {
            "text/plain": [
              "<Figure size 800x600 with 1 Axes>"
            ],
            "image/png": "[encoded data removed]"
          },
          "metadata": {}
        }
      ]
    },
    {
      "cell_type": "code",
      "source": [
        "# 우측 TMJ에서 TMJ OA 상태 분포\n",
        "right_tmj_counts = tmj_data[tmj_data['TMJ_Side'] == 'Right']['TMJ_OA_Status'].value_counts()\n",
        "print(\"\\n우측 TMJ OA 상태 분포:\\n\", right_tmj_counts)\n",
        "\n",
        "# 좌측 TMJ에서 TMJ OA 상태 분포\n",
        "left_tmj_counts = tmj_data[tmj_data['TMJ_Side'] == 'Left']['TMJ_OA_Status'].value_counts()\n",
        "print(\"\\n좌측 TMJ OA 상태 분포:\\n\", left_tmj_counts)"
      ],
      "metadata": {
        "colab": {
          "base_uri": "https://localhost:8080/"
        },
        "id": "HeFRqAbii8vo",
        "outputId": "e415f4b5-c6a6-437d-c25a-85b1354b5ea3"
      },
      "execution_count": 36,
      "outputs": [
        {
          "output_type": "stream",
          "name": "stdout",
          "text": [
            "\n",
            "우측 TMJ OA 상태 분포:\n",
            " TMJ_OA_Status\n",
            "0    710\n",
            "1    509\n",
            "Name: count, dtype: int64\n",
            "\n",
            "좌측 TMJ OA 상태 분포:\n",
            " TMJ_OA_Status\n",
            "0    643\n",
            "1    576\n",
            "Name: count, dtype: int64\n"
          ]
        }
      ]
    },
    {
      "cell_type": "code",
      "source": [
        "# 우측 TMJ와 좌측 TMJ 상태 분포 계산\n",
        "right_tmj_counts = tmj_data[tmj_data['TMJ_Side'] == 'Right']['TMJ_OA_Status'].value_counts()\n",
        "left_tmj_counts = tmj_data[tmj_data['TMJ_Side'] == 'Left']['TMJ_OA_Status'].value_counts()\n",
        "\n",
        "# 시각화\n",
        "plt.figure(figsize=(14, 6))\n",
        "\n",
        "# 1. 우측 TMJ OA 상태 분포 시각화\n",
        "plt.subplot(1, 2, 1)\n",
        "sns.barplot(x=right_tmj_counts.index, y=right_tmj_counts.values, palette='Blues')\n",
        "plt.title(\"CBCT_Rt TMJ OA Status Distribution\")\n",
        "plt.xlabel(\"TMJ OA Status (0 = Normal, 1 = OA)\")\n",
        "plt.ylabel(\"Count\")\n",
        "plt.xticks([0, 1], ['Normal (0)', 'OA (1)'])\n",
        "plt.grid(True)\n",
        "\n",
        "# 각 막대 위에 개수 표시\n",
        "for i, count in enumerate(right_tmj_counts.values):\n",
        "    plt.text(i, count + 10, str(count), ha='center', fontsize=12, color='black')\n",
        "\n",
        "# 2. 좌측 TMJ OA 상태 분포 시각화\n",
        "plt.subplot(1, 2, 2)\n",
        "sns.barplot(x=left_tmj_counts.index, y=left_tmj_counts.values, palette='Greens')\n",
        "plt.title(\"CBCT_Lt TMJ OA Status Distribution\")\n",
        "plt.xlabel(\"TMJ OA Status (0 = Normal, 1 = OA)\")\n",
        "plt.ylabel(\"Count\")\n",
        "plt.xticks([0, 1], ['Normal (0)', 'OA (1)'])\n",
        "plt.grid(True)\n",
        "\n",
        "# 각 막대 위에 개수 표시\n",
        "for i, count in enumerate(left_tmj_counts.values):\n",
        "    plt.text(i, count + 10, str(count), ha='center', fontsize=12, color='black')\n",
        "\n",
        "plt.tight_layout()\n",
        "plt.show()"
      ],
      "metadata": {
        "colab": {
          "base_uri": "https://localhost:8080/",
          "height": 791
        },
        "id": "Mxofoy3Df3Dr",
        "outputId": "cbf7af0e-04cf-4051-8287-3c3d9b69692a"
      },
      "execution_count": 38,
      "outputs": [
        {
          "output_type": "stream",
          "name": "stderr",
          "text": [
            "<ipython-input-38-27d2e618698f>:10: FutureWarning: \n",
            "\n",
            "Passing `palette` without assigning `hue` is deprecated and will be removed in v0.14.0. Assign the `x` variable to `hue` and set `legend=False` for the same effect.\n",
            "\n",
            "  sns.barplot(x=right_tmj_counts.index, y=right_tmj_counts.values, palette='Blues')\n",
            "<ipython-input-38-27d2e618698f>:23: FutureWarning: \n",
            "\n",
            "Passing `palette` without assigning `hue` is deprecated and will be removed in v0.14.0. Assign the `x` variable to `hue` and set `legend=False` for the same effect.\n",
            "\n",
            "  sns.barplot(x=left_tmj_counts.index, y=left_tmj_counts.values, palette='Greens')\n"
          ]
        },
        {
          "output_type": "display_data",
          "data": {
            "text/plain": [
              "<Figure size 1400x600 with 2 Axes>"
            ],
            "image/png": "[encoded data removed]"
          },
          "metadata": {}
        }
      ]
    }
  ]
}